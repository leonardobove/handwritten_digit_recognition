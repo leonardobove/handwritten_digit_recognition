{
 "cells": [
  {
   "cell_type": "code",
   "execution_count": 4,
   "id": "33a7c5e7-9754-4f0b-91f0-15e16e8dd023",
   "metadata": {},
   "outputs": [
    {
     "name": "stdout",
     "output_type": "stream",
     "text": [
      "Model parameters have been saved to ./results/model_parameters.txt\n"
     ]
    },
    {
     "name": "stderr",
     "output_type": "stream",
     "text": [
      "/tmp/ipykernel_42776/485422982.py:5: FutureWarning: You are using `torch.load` with `weights_only=False` (the current default value), which uses the default pickle module implicitly. It is possible to construct malicious pickle data which will execute arbitrary code during unpickling (See https://github.com/pytorch/pytorch/blob/main/SECURITY.md#untrusted-models for more details). In a future release, the default value for `weights_only` will be flipped to `True`. This limits the functions that could be executed during unpickling. Arbitrary objects will no longer be allowed to be loaded via this mode unless they are explicitly allowlisted by the user via `torch.serialization.add_safe_globals`. We recommend you start setting `weights_only=True` for any use case where you don't have full control of the loaded file. Please open an issue on GitHub for any issues related to this experimental feature.\n",
      "  model_state_dict = torch.load(model_path, map_location=torch.device('cpu'))\n"
     ]
    }
   ],
   "source": [
    "import torch\n",
    "\n",
    "# Load the model parameters from the .pth file\n",
    "model_path = \"./results/model.pth\"\n",
    "model_state_dict = torch.load(model_path, map_location=torch.device('cpu'))\n",
    "\n",
    "# Specify output file for saving weights and biases\n",
    "output_file = \"./results/model_parameters.txt\"\n",
    "\n",
    "# Open the output file for writing\n",
    "with open(output_file, \"w\") as f:\n",
    "    for name, param in model_state_dict.items():\n",
    "        # Convert the tensor to a NumPy array\n",
    "        param_np = param.cpu().numpy()\n",
    "        \n",
    "        f.write(f\"Layer: {name}\\n\")\n",
    "        f.write(f\"Shape: {param_np.shape}\\n\")\n",
    "        f.write(f\"Weights/Biases:\\n{param_np}\\n\\n\")\n",
    "        \n",
    "print(f\"Model parameters have been saved to {output_file}\")\n"
   ]
  },
  {
   "cell_type": "code",
   "execution_count": null,
   "id": "09b593cc-a472-462b-b751-0ce72f0c3189",
   "metadata": {},
   "outputs": [],
   "source": []
  }
 ],
 "metadata": {
  "kernelspec": {
   "display_name": "Python 3 (ipykernel)",
   "language": "python",
   "name": "python3"
  },
  "language_info": {
   "codemirror_mode": {
    "name": "ipython",
    "version": 3
   },
   "file_extension": ".py",
   "mimetype": "text/x-python",
   "name": "python",
   "nbconvert_exporter": "python",
   "pygments_lexer": "ipython3",
   "version": "3.10.12"
  }
 },
 "nbformat": 4,
 "nbformat_minor": 5
}
