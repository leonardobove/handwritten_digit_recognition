{
  "nbformat": 4,
  "nbformat_minor": 0,
  "metadata": {
    "colab": {
      "provenance": [],
      "gpuType": "T4",
      "include_colab_link": true
    },
    "kernelspec": {
      "name": "python3",
      "display_name": "Python 3"
    },
    "language_info": {
      "name": "python"
    },
    "accelerator": "GPU"
  },
  "cells": [
    {
      "cell_type": "markdown",
      "metadata": {
        "id": "view-in-github",
        "colab_type": "text"
      },
      "source": [
        "<a href=\"https://colab.research.google.com/github/leonardobove/handwritten_digit_recognition/blob/python_model/python/mlp_pytorch.ipynb\" target=\"_parent\"><img src=\"https://colab.research.google.com/assets/colab-badge.svg\" alt=\"Open In Colab\"/></a>"
      ]
    },
    {
      "cell_type": "code",
      "execution_count": 94,
      "metadata": {
        "colab": {
          "base_uri": "https://localhost:8080/"
        },
        "id": "mtliPLXPu_2C",
        "outputId": "b631927f-952e-45e4-ee32-63bb1bee29b9"
      },
      "outputs": [
        {
          "output_type": "stream",
          "name": "stdout",
          "text": [
            "GPU: Tesla T4 is available.\n"
          ]
        }
      ],
      "source": [
        "import torch\n",
        "if torch.cuda.is_available():\n",
        "    print(f\"GPU: {torch.cuda.get_device_name(0)} is available.\")\n",
        "else:\n",
        "    print(\"No GPU available. Training will run on CPU.\")\n"
      ]
    },
    {
      "cell_type": "code",
      "source": [
        "device = torch.device(\"cuda\" if torch.cuda.is_available() else \"cpu\")\n",
        "print(device)"
      ],
      "metadata": {
        "colab": {
          "base_uri": "https://localhost:8080/"
        },
        "id": "e84SILg0wkxz",
        "outputId": "d0bb9105-d302-43c4-cbc0-c2edd0c729a9"
      },
      "execution_count": 95,
      "outputs": [
        {
          "output_type": "stream",
          "name": "stdout",
          "text": [
            "cuda\n"
          ]
        }
      ]
    },
    {
      "cell_type": "code",
      "source": [
        "torch.manual_seed(1)"
      ],
      "metadata": {
        "colab": {
          "base_uri": "https://localhost:8080/"
        },
        "id": "i69nnyxmVilN",
        "outputId": "325af52a-eb9d-4a7c-8b53-3352bf3ec106"
      },
      "execution_count": 96,
      "outputs": [
        {
          "output_type": "execute_result",
          "data": {
            "text/plain": [
              "<torch._C.Generator at 0x7fd37e7e8dd0>"
            ]
          },
          "metadata": {},
          "execution_count": 96
        }
      ]
    },
    {
      "cell_type": "code",
      "source": [
        "# Get training and testing datasets\n",
        "import torchvision\n",
        "\n",
        "batch_size_train = 64\n",
        "batch_size_test = 1000\n",
        "\n",
        "train_loader = torch.utils.data.DataLoader(\n",
        "  torchvision.datasets.MNIST('/files/', train=True, download=True,\n",
        "                             transform=torchvision.transforms.Compose([\n",
        "                               torchvision.transforms.ToTensor(),\n",
        "                               torchvision.transforms.Normalize(\n",
        "                                 (0.1307,), (0.3081,))\n",
        "                             ])),\n",
        "  batch_size=batch_size_train, shuffle=True)\n",
        "\n",
        "test_loader = torch.utils.data.DataLoader(\n",
        "  torchvision.datasets.MNIST('/files/', train=False, download=True,\n",
        "                             transform=torchvision.transforms.Compose([\n",
        "                               torchvision.transforms.ToTensor(),\n",
        "                               torchvision.transforms.Normalize(\n",
        "                                 (0.1307,), (0.3081,))\n",
        "                             ])),\n",
        "  batch_size=batch_size_test, shuffle=True)"
      ],
      "metadata": {
        "id": "RY-ZWFJV3-ht"
      },
      "execution_count": 97,
      "outputs": []
    },
    {
      "cell_type": "code",
      "source": [
        "import matplotlib.pyplot as plt\n",
        "\n",
        "examples = enumerate(test_loader)\n",
        "batch_idx, (example_data, example_targets) = next(examples)\n",
        "\n",
        "fig = plt.figure()\n",
        "for i in range(6):\n",
        "  plt.subplot(2,3,i+1)\n",
        "  plt.tight_layout()\n",
        "  plt.imshow(example_data[i][0], cmap='gray', interpolation='none')\n",
        "  plt.title(\"Ground Truth: {}\".format(example_targets[i]))\n",
        "  plt.xticks([])\n",
        "  plt.yticks([])\n",
        "fig"
      ],
      "metadata": {
        "colab": {
          "base_uri": "https://localhost:8080/",
          "height": 859
        },
        "id": "j9v915a6C6Gr",
        "outputId": "4906f31c-b857-48b8-b8c5-fdbb01d63d23"
      },
      "execution_count": 98,
      "outputs": [
        {
          "output_type": "execute_result",
          "data": {
            "text/plain": [
              "<Figure size 640x480 with 6 Axes>"
            ],
            "image/png": "[encoded data removed]"
          },
          "metadata": {},
          "execution_count": 98
        },
        {
          "output_type": "display_data",
          "data": {
            "text/plain": [
              "<Figure size 640x480 with 6 Axes>"
            ],
            "image/png": "[encoded data removed]"
          },
          "metadata": {}
        }
      ]
    },
    {
      "cell_type": "code",
      "source": [
        "import torch.nn.functional as F\n",
        "\n",
        "print(train_loader.dataset.data.shape)\n",
        "print(test_loader.dataset.data.shape)\n",
        "\n",
        "# Edit targets so that they are a one-hot 1D tensor with shape (10)\n",
        "#train_loader.dataset.targets = F.one_hot(train_loader.dataset.targets, num_classes=10).float()\n",
        "#train_loader.dataset.targets = train_loader.dataset.targets.flip(dims=[1])\n",
        "\n",
        "#test_loader.dataset.targets = F.one_hot(test_loader.dataset.targets, num_classes=10).float()\n",
        "#test_loader.dataset.targets = test_loader.dataset.targets.flip(dims=[1])\n",
        "\n",
        "print(train_loader.dataset.targets.shape)\n",
        "print(test_loader.dataset.targets.shape)\n",
        "\n",
        "# Move them to the GPU\n",
        "train_loader.dataset.data.to('cuda')\n",
        "train_loader.dataset.targets.to('cuda')\n",
        "test_loader.dataset.data.to('cuda')\n",
        "test_loader.dataset.targets.to('cuda')"
      ],
      "metadata": {
        "colab": {
          "base_uri": "https://localhost:8080/"
        },
        "id": "7YFcWG_-W-vL",
        "outputId": "4197daac-1449-431a-bfa3-7d12005939c9"
      },
      "execution_count": 99,
      "outputs": [
        {
          "output_type": "stream",
          "name": "stdout",
          "text": [
            "torch.Size([60000, 28, 28])\n",
            "torch.Size([10000, 28, 28])\n",
            "torch.Size([60000])\n",
            "torch.Size([10000])\n"
          ]
        },
        {
          "output_type": "execute_result",
          "data": {
            "text/plain": [
              "tensor([7, 2, 1,  ..., 4, 5, 6], device='cuda:0')"
            ]
          },
          "metadata": {},
          "execution_count": 99
        }
      ]
    },
    {
      "cell_type": "code",
      "source": [
        "import torch.nn as nn\n",
        "import torch.optim as optim\n",
        "\n",
        "# Create a\n",
        "class MLP(nn.Module):\n",
        "    def __init__(self):\n",
        "        super().__init__()\n",
        "        self.linear_sigmoid_stack = nn.Sequential(\n",
        "          nn.Linear(784, 30),\n",
        "          nn.Sigmoid(),\n",
        "          nn.Linear(30, 10),\n",
        "          nn.Sigmoid()\n",
        "        )\n",
        "\n",
        "    def forward(self, x):\n",
        "        x = torch.flatten(x, 1)\n",
        "        return self.linear_sigmoid_stack(x)\n",
        "\n",
        "model = MLP() # Create a MLP instance\n",
        "\n",
        "model = nn.DataParallel(model) # Wrap the model with DataParallel\n",
        "model = model.to('cuda') # Move the model to the GPU\n",
        "\n",
        "# Declare the loss function and the optimizer\n",
        "loss_fn = nn.MSELoss()\n",
        "optimizer = optim.SGD(model.parameters(), lr=3)"
      ],
      "metadata": {
        "id": "q1_HecLLwyko"
      },
      "execution_count": 100,
      "outputs": []
    },
    {
      "cell_type": "code",
      "source": [
        "n_epochs = 3\n",
        "\n",
        "train_losses = []\n",
        "train_counter = []\n",
        "test_losses = []\n",
        "test_counter = [i*len(train_loader.dataset) for i in range(n_epochs + 1)]"
      ],
      "metadata": {
        "id": "LgTTJm-tKVj5"
      },
      "execution_count": 101,
      "outputs": []
    },
    {
      "cell_type": "code",
      "source": [
        "!mkdir -p /results"
      ],
      "metadata": {
        "id": "pVNPq_e_pQkP"
      },
      "execution_count": 102,
      "outputs": []
    },
    {
      "cell_type": "code",
      "source": [
        "log_interval = 10\n",
        "\n",
        "def train(epoch):\n",
        "  model.train()\n",
        "  for batch_idx, (data, target) in enumerate(train_loader):\n",
        "    optimizer.zero_grad()\n",
        "    output = model(data)\n",
        "\n",
        "    # Edit targets so that they are a one-hot 1D tensor with shape (10).\n",
        "    # E.g.: [2] => [0, 0, 0, 0, 0, 0, 0, 1, 0, 0]\n",
        "    target = F.one_hot(target, num_classes=10).float()\n",
        "    target = target.flip(dims=[1])\n",
        "    target = target.to('cuda')\n",
        "\n",
        "    # Evaluate error\n",
        "    loss = loss_fn(output, target) # Mean square error\n",
        "\n",
        "    # Propagate error and update the model parameters\n",
        "    loss.backward()\n",
        "    optimizer.step()\n",
        "\n",
        "    # Training log\n",
        "    if batch_idx % log_interval == 0:\n",
        "      print('Train Epoch: {} [{}/{} ({:.0f}%)]\\tLoss: {:.6f}'.format(\n",
        "        epoch, batch_idx * len(data), len(train_loader.dataset),\n",
        "        100. * batch_idx / len(train_loader), loss.item()))\n",
        "      train_losses.append(loss.item())\n",
        "      train_counter.append(\n",
        "        (batch_idx*64) + ((epoch-1)*len(train_loader.dataset)))\n",
        "      torch.save(model.state_dict(), '/results/model.pth')\n",
        "      torch.save(optimizer.state_dict(), '/results/optimizer.pth')\n",
        "\n",
        "def test():\n",
        "    model.eval()\n",
        "    test_loss = 0\n",
        "    correct = 0\n",
        "    with torch.no_grad():\n",
        "      for data, target in test_loader:\n",
        "        output = model(data)\n",
        "        # Edit targets so that they are a one-hot 1D tensor with shape (10).\n",
        "        # E.g.: [2] => [0, 0, 0, 0, 0, 0, 0, 1, 0, 0]\n",
        "        decimal_target = target # Save a copy in the original format\n",
        "        decimal_target = decimal_target.to('cuda')\n",
        "        target = F.one_hot(target, num_classes=10).float()\n",
        "        target = target.flip(dims=[1])\n",
        "        target = target.to('cuda')\n",
        "\n",
        "        test_loss += loss_fn(output, target)\n",
        "        pred = output.data.max(1, keepdim=True)[1]\n",
        "        correct += pred.eq(decimal_target.data.view_as(pred)).sum()\n",
        "    test_loss /= len(test_loader.dataset)\n",
        "    test_losses.append(test_loss)\n",
        "    print('\\nTest set: Avg. loss: {:.4f}, Accuracy: {}/{} ({:.0f}%)\\n'.format(\n",
        "      test_loss, correct, len(test_loader.dataset),\n",
        "      100. * correct / len(test_loader.dataset)))"
      ],
      "metadata": {
        "id": "PjSQWdDEQjPO"
      },
      "execution_count": 103,
      "outputs": []
    },
    {
      "cell_type": "code",
      "source": [
        "test() # Test without training\n",
        "\n",
        "# Start training\n",
        "for epoch in range(1, n_epochs + 1):\n",
        "  train(epoch)\n",
        "  test()"
      ],
      "metadata": {
        "colab": {
          "base_uri": "https://localhost:8080/"
        },
        "id": "VmLziUC4TqCt",
        "outputId": "da3171f8-0f5f-47e3-fa41-d2741e8072cf"
      },
      "execution_count": 104,
      "outputs": [
        {
          "output_type": "stream",
          "name": "stdout",
          "text": [
            "\n",
            "Test set: Avg. loss: 0.0003, Accuracy: 893/10000 (9%)\n",
            "\n",
            "Train Epoch: 1 [0/60000 (0%)]\tLoss: 0.285515\n",
            "Train Epoch: 1 [640/60000 (1%)]\tLoss: 0.088345\n",
            "Train Epoch: 1 [1280/60000 (2%)]\tLoss: 0.086934\n",
            "Train Epoch: 1 [1920/60000 (3%)]\tLoss: 0.084095\n",
            "Train Epoch: 1 [2560/60000 (4%)]\tLoss: 0.081911\n",
            "Train Epoch: 1 [3200/60000 (5%)]\tLoss: 0.075979\n",
            "Train Epoch: 1 [3840/60000 (6%)]\tLoss: 0.072069\n",
            "Train Epoch: 1 [4480/60000 (7%)]\tLoss: 0.067990\n",
            "Train Epoch: 1 [5120/60000 (9%)]\tLoss: 0.065317\n",
            "Train Epoch: 1 [5760/60000 (10%)]\tLoss: 0.065858\n",
            "Train Epoch: 1 [6400/60000 (11%)]\tLoss: 0.065172\n",
            "Train Epoch: 1 [7040/60000 (12%)]\tLoss: 0.059484\n",
            "Train Epoch: 1 [7680/60000 (13%)]\tLoss: 0.059565\n",
            "Train Epoch: 1 [8320/60000 (14%)]\tLoss: 0.050377\n",
            "Train Epoch: 1 [8960/60000 (15%)]\tLoss: 0.052483\n",
            "Train Epoch: 1 [9600/60000 (16%)]\tLoss: 0.052711\n",
            "Train Epoch: 1 [10240/60000 (17%)]\tLoss: 0.040420\n",
            "Train Epoch: 1 [10880/60000 (18%)]\tLoss: 0.043536\n",
            "Train Epoch: 1 [11520/60000 (19%)]\tLoss: 0.046571\n",
            "Train Epoch: 1 [12160/60000 (20%)]\tLoss: 0.042118\n",
            "Train Epoch: 1 [12800/60000 (21%)]\tLoss: 0.036838\n",
            "Train Epoch: 1 [13440/60000 (22%)]\tLoss: 0.036695\n",
            "Train Epoch: 1 [14080/60000 (23%)]\tLoss: 0.036380\n",
            "Train Epoch: 1 [14720/60000 (25%)]\tLoss: 0.036416\n",
            "Train Epoch: 1 [15360/60000 (26%)]\tLoss: 0.036205\n",
            "Train Epoch: 1 [16000/60000 (27%)]\tLoss: 0.036475\n",
            "Train Epoch: 1 [16640/60000 (28%)]\tLoss: 0.033436\n",
            "Train Epoch: 1 [17280/60000 (29%)]\tLoss: 0.035181\n",
            "Train Epoch: 1 [17920/60000 (30%)]\tLoss: 0.038003\n",
            "Train Epoch: 1 [18560/60000 (31%)]\tLoss: 0.029616\n",
            "Train Epoch: 1 [19200/60000 (32%)]\tLoss: 0.027682\n",
            "Train Epoch: 1 [19840/60000 (33%)]\tLoss: 0.027255\n",
            "Train Epoch: 1 [20480/60000 (34%)]\tLoss: 0.033561\n",
            "Train Epoch: 1 [21120/60000 (35%)]\tLoss: 0.028162\n",
            "Train Epoch: 1 [21760/60000 (36%)]\tLoss: 0.029995\n",
            "Train Epoch: 1 [22400/60000 (37%)]\tLoss: 0.025272\n",
            "Train Epoch: 1 [23040/60000 (38%)]\tLoss: 0.024134\n",
            "Train Epoch: 1 [23680/60000 (39%)]\tLoss: 0.022748\n",
            "Train Epoch: 1 [24320/60000 (41%)]\tLoss: 0.026376\n",
            "Train Epoch: 1 [24960/60000 (42%)]\tLoss: 0.024733\n",
            "Train Epoch: 1 [25600/60000 (43%)]\tLoss: 0.017949\n",
            "Train Epoch: 1 [26240/60000 (44%)]\tLoss: 0.025926\n",
            "Train Epoch: 1 [26880/60000 (45%)]\tLoss: 0.027759\n",
            "Train Epoch: 1 [27520/60000 (46%)]\tLoss: 0.025434\n",
            "Train Epoch: 1 [28160/60000 (47%)]\tLoss: 0.018657\n",
            "Train Epoch: 1 [28800/60000 (48%)]\tLoss: 0.024593\n",
            "Train Epoch: 1 [29440/60000 (49%)]\tLoss: 0.020813\n",
            "Train Epoch: 1 [30080/60000 (50%)]\tLoss: 0.018888\n",
            "Train Epoch: 1 [30720/60000 (51%)]\tLoss: 0.023364\n",
            "Train Epoch: 1 [31360/60000 (52%)]\tLoss: 0.026405\n",
            "Train Epoch: 1 [32000/60000 (53%)]\tLoss: 0.021111\n",
            "Train Epoch: 1 [32640/60000 (54%)]\tLoss: 0.028003\n",
            "Train Epoch: 1 [33280/60000 (55%)]\tLoss: 0.019274\n",
            "Train Epoch: 1 [33920/60000 (57%)]\tLoss: 0.018396\n",
            "Train Epoch: 1 [34560/60000 (58%)]\tLoss: 0.027885\n",
            "Train Epoch: 1 [35200/60000 (59%)]\tLoss: 0.022675\n",
            "Train Epoch: 1 [35840/60000 (60%)]\tLoss: 0.023904\n",
            "Train Epoch: 1 [36480/60000 (61%)]\tLoss: 0.019759\n",
            "Train Epoch: 1 [37120/60000 (62%)]\tLoss: 0.027495\n",
            "Train Epoch: 1 [37760/60000 (63%)]\tLoss: 0.018324\n",
            "Train Epoch: 1 [38400/60000 (64%)]\tLoss: 0.010552\n",
            "Train Epoch: 1 [39040/60000 (65%)]\tLoss: 0.027157\n",
            "Train Epoch: 1 [39680/60000 (66%)]\tLoss: 0.023661\n",
            "Train Epoch: 1 [40320/60000 (67%)]\tLoss: 0.019105\n",
            "Train Epoch: 1 [40960/60000 (68%)]\tLoss: 0.013242\n",
            "Train Epoch: 1 [41600/60000 (69%)]\tLoss: 0.018253\n",
            "Train Epoch: 1 [42240/60000 (70%)]\tLoss: 0.027147\n",
            "Train Epoch: 1 [42880/60000 (71%)]\tLoss: 0.018961\n",
            "Train Epoch: 1 [43520/60000 (72%)]\tLoss: 0.022982\n",
            "Train Epoch: 1 [44160/60000 (74%)]\tLoss: 0.017099\n",
            "Train Epoch: 1 [44800/60000 (75%)]\tLoss: 0.013860\n",
            "Train Epoch: 1 [45440/60000 (76%)]\tLoss: 0.021074\n",
            "Train Epoch: 1 [46080/60000 (77%)]\tLoss: 0.018083\n",
            "Train Epoch: 1 [46720/60000 (78%)]\tLoss: 0.016241\n",
            "Train Epoch: 1 [47360/60000 (79%)]\tLoss: 0.024003\n",
            "Train Epoch: 1 [48000/60000 (80%)]\tLoss: 0.022151\n",
            "Train Epoch: 1 [48640/60000 (81%)]\tLoss: 0.020740\n",
            "Train Epoch: 1 [49280/60000 (82%)]\tLoss: 0.013594\n",
            "Train Epoch: 1 [49920/60000 (83%)]\tLoss: 0.018315\n",
            "Train Epoch: 1 [50560/60000 (84%)]\tLoss: 0.027251\n",
            "Train Epoch: 1 [51200/60000 (85%)]\tLoss: 0.022695\n",
            "Train Epoch: 1 [51840/60000 (86%)]\tLoss: 0.016447\n",
            "Train Epoch: 1 [52480/60000 (87%)]\tLoss: 0.021748\n",
            "Train Epoch: 1 [53120/60000 (88%)]\tLoss: 0.012786\n",
            "Train Epoch: 1 [53760/60000 (90%)]\tLoss: 0.018999\n",
            "Train Epoch: 1 [54400/60000 (91%)]\tLoss: 0.019751\n",
            "Train Epoch: 1 [55040/60000 (92%)]\tLoss: 0.017913\n",
            "Train Epoch: 1 [55680/60000 (93%)]\tLoss: 0.027359\n",
            "Train Epoch: 1 [56320/60000 (94%)]\tLoss: 0.020801\n",
            "Train Epoch: 1 [56960/60000 (95%)]\tLoss: 0.018525\n",
            "Train Epoch: 1 [57600/60000 (96%)]\tLoss: 0.013242\n",
            "Train Epoch: 1 [58240/60000 (97%)]\tLoss: 0.012764\n",
            "Train Epoch: 1 [58880/60000 (98%)]\tLoss: 0.018218\n",
            "Train Epoch: 1 [59520/60000 (99%)]\tLoss: 0.015634\n",
            "\n",
            "Test set: Avg. loss: 0.0000, Accuracy: 92/10000 (1%)\n",
            "\n",
            "Train Epoch: 2 [0/60000 (0%)]\tLoss: 0.019205\n",
            "Train Epoch: 2 [640/60000 (1%)]\tLoss: 0.013728\n",
            "Train Epoch: 2 [1280/60000 (2%)]\tLoss: 0.019889\n",
            "Train Epoch: 2 [1920/60000 (3%)]\tLoss: 0.015643\n",
            "Train Epoch: 2 [2560/60000 (4%)]\tLoss: 0.013178\n",
            "Train Epoch: 2 [3200/60000 (5%)]\tLoss: 0.014325\n",
            "Train Epoch: 2 [3840/60000 (6%)]\tLoss: 0.011904\n",
            "Train Epoch: 2 [4480/60000 (7%)]\tLoss: 0.009857\n",
            "Train Epoch: 2 [5120/60000 (9%)]\tLoss: 0.014354\n",
            "Train Epoch: 2 [5760/60000 (10%)]\tLoss: 0.015539\n",
            "Train Epoch: 2 [6400/60000 (11%)]\tLoss: 0.020737\n",
            "Train Epoch: 2 [7040/60000 (12%)]\tLoss: 0.022428\n",
            "Train Epoch: 2 [7680/60000 (13%)]\tLoss: 0.009412\n",
            "Train Epoch: 2 [8320/60000 (14%)]\tLoss: 0.009915\n",
            "Train Epoch: 2 [8960/60000 (15%)]\tLoss: 0.012808\n",
            "Train Epoch: 2 [9600/60000 (16%)]\tLoss: 0.014899\n",
            "Train Epoch: 2 [10240/60000 (17%)]\tLoss: 0.015974\n",
            "Train Epoch: 2 [10880/60000 (18%)]\tLoss: 0.015688\n",
            "Train Epoch: 2 [11520/60000 (19%)]\tLoss: 0.014522\n",
            "Train Epoch: 2 [12160/60000 (20%)]\tLoss: 0.010198\n",
            "Train Epoch: 2 [12800/60000 (21%)]\tLoss: 0.018725\n",
            "Train Epoch: 2 [13440/60000 (22%)]\tLoss: 0.015052\n",
            "Train Epoch: 2 [14080/60000 (23%)]\tLoss: 0.013222\n",
            "Train Epoch: 2 [14720/60000 (25%)]\tLoss: 0.013848\n",
            "Train Epoch: 2 [15360/60000 (26%)]\tLoss: 0.020281\n",
            "Train Epoch: 2 [16000/60000 (27%)]\tLoss: 0.013605\n",
            "Train Epoch: 2 [16640/60000 (28%)]\tLoss: 0.012459\n",
            "Train Epoch: 2 [17280/60000 (29%)]\tLoss: 0.012589\n",
            "Train Epoch: 2 [17920/60000 (30%)]\tLoss: 0.013225\n",
            "Train Epoch: 2 [18560/60000 (31%)]\tLoss: 0.013739\n",
            "Train Epoch: 2 [19200/60000 (32%)]\tLoss: 0.016421\n",
            "Train Epoch: 2 [19840/60000 (33%)]\tLoss: 0.014196\n",
            "Train Epoch: 2 [20480/60000 (34%)]\tLoss: 0.013249\n",
            "Train Epoch: 2 [21120/60000 (35%)]\tLoss: 0.012904\n",
            "Train Epoch: 2 [21760/60000 (36%)]\tLoss: 0.009359\n",
            "Train Epoch: 2 [22400/60000 (37%)]\tLoss: 0.015618\n",
            "Train Epoch: 2 [23040/60000 (38%)]\tLoss: 0.008935\n",
            "Train Epoch: 2 [23680/60000 (39%)]\tLoss: 0.013863\n",
            "Train Epoch: 2 [24320/60000 (41%)]\tLoss: 0.024326\n",
            "Train Epoch: 2 [24960/60000 (42%)]\tLoss: 0.019696\n",
            "Train Epoch: 2 [25600/60000 (43%)]\tLoss: 0.016934\n",
            "Train Epoch: 2 [26240/60000 (44%)]\tLoss: 0.013663\n",
            "Train Epoch: 2 [26880/60000 (45%)]\tLoss: 0.020946\n",
            "Train Epoch: 2 [27520/60000 (46%)]\tLoss: 0.008879\n",
            "Train Epoch: 2 [28160/60000 (47%)]\tLoss: 0.017570\n",
            "Train Epoch: 2 [28800/60000 (48%)]\tLoss: 0.009994\n",
            "Train Epoch: 2 [29440/60000 (49%)]\tLoss: 0.015342\n",
            "Train Epoch: 2 [30080/60000 (50%)]\tLoss: 0.009034\n",
            "Train Epoch: 2 [30720/60000 (51%)]\tLoss: 0.017427\n",
            "Train Epoch: 2 [31360/60000 (52%)]\tLoss: 0.016987\n",
            "Train Epoch: 2 [32000/60000 (53%)]\tLoss: 0.011392\n",
            "Train Epoch: 2 [32640/60000 (54%)]\tLoss: 0.012450\n",
            "Train Epoch: 2 [33280/60000 (55%)]\tLoss: 0.015051\n",
            "Train Epoch: 2 [33920/60000 (57%)]\tLoss: 0.013295\n",
            "Train Epoch: 2 [34560/60000 (58%)]\tLoss: 0.013370\n",
            "Train Epoch: 2 [35200/60000 (59%)]\tLoss: 0.016321\n",
            "Train Epoch: 2 [35840/60000 (60%)]\tLoss: 0.010683\n",
            "Train Epoch: 2 [36480/60000 (61%)]\tLoss: 0.013621\n",
            "Train Epoch: 2 [37120/60000 (62%)]\tLoss: 0.016381\n",
            "Train Epoch: 2 [37760/60000 (63%)]\tLoss: 0.013081\n",
            "Train Epoch: 2 [38400/60000 (64%)]\tLoss: 0.009494\n",
            "Train Epoch: 2 [39040/60000 (65%)]\tLoss: 0.013556\n",
            "Train Epoch: 2 [39680/60000 (66%)]\tLoss: 0.011644\n",
            "Train Epoch: 2 [40320/60000 (67%)]\tLoss: 0.012537\n",
            "Train Epoch: 2 [40960/60000 (68%)]\tLoss: 0.008252\n",
            "Train Epoch: 2 [41600/60000 (69%)]\tLoss: 0.012967\n",
            "Train Epoch: 2 [42240/60000 (70%)]\tLoss: 0.007858\n",
            "Train Epoch: 2 [42880/60000 (71%)]\tLoss: 0.013758\n",
            "Train Epoch: 2 [43520/60000 (72%)]\tLoss: 0.008217\n",
            "Train Epoch: 2 [44160/60000 (74%)]\tLoss: 0.014303\n",
            "Train Epoch: 2 [44800/60000 (75%)]\tLoss: 0.009005\n",
            "Train Epoch: 2 [45440/60000 (76%)]\tLoss: 0.013874\n",
            "Train Epoch: 2 [46080/60000 (77%)]\tLoss: 0.014177\n",
            "Train Epoch: 2 [46720/60000 (78%)]\tLoss: 0.015784\n",
            "Train Epoch: 2 [47360/60000 (79%)]\tLoss: 0.012789\n",
            "Train Epoch: 2 [48000/60000 (80%)]\tLoss: 0.011987\n",
            "Train Epoch: 2 [48640/60000 (81%)]\tLoss: 0.009466\n",
            "Train Epoch: 2 [49280/60000 (82%)]\tLoss: 0.009476\n",
            "Train Epoch: 2 [49920/60000 (83%)]\tLoss: 0.012087\n",
            "Train Epoch: 2 [50560/60000 (84%)]\tLoss: 0.017045\n",
            "Train Epoch: 2 [51200/60000 (85%)]\tLoss: 0.013765\n",
            "Train Epoch: 2 [51840/60000 (86%)]\tLoss: 0.010374\n",
            "Train Epoch: 2 [52480/60000 (87%)]\tLoss: 0.006596\n",
            "Train Epoch: 2 [53120/60000 (88%)]\tLoss: 0.010839\n",
            "Train Epoch: 2 [53760/60000 (90%)]\tLoss: 0.012326\n",
            "Train Epoch: 2 [54400/60000 (91%)]\tLoss: 0.014282\n",
            "Train Epoch: 2 [55040/60000 (92%)]\tLoss: 0.015846\n",
            "Train Epoch: 2 [55680/60000 (93%)]\tLoss: 0.010317\n",
            "Train Epoch: 2 [56320/60000 (94%)]\tLoss: 0.011948\n",
            "Train Epoch: 2 [56960/60000 (95%)]\tLoss: 0.015747\n",
            "Train Epoch: 2 [57600/60000 (96%)]\tLoss: 0.016385\n",
            "Train Epoch: 2 [58240/60000 (97%)]\tLoss: 0.017257\n",
            "Train Epoch: 2 [58880/60000 (98%)]\tLoss: 0.017923\n",
            "Train Epoch: 2 [59520/60000 (99%)]\tLoss: 0.008492\n",
            "\n",
            "Test set: Avg. loss: 0.0000, Accuracy: 82/10000 (1%)\n",
            "\n",
            "Train Epoch: 3 [0/60000 (0%)]\tLoss: 0.010495\n",
            "Train Epoch: 3 [640/60000 (1%)]\tLoss: 0.012093\n",
            "Train Epoch: 3 [1280/60000 (2%)]\tLoss: 0.014656\n",
            "Train Epoch: 3 [1920/60000 (3%)]\tLoss: 0.012552\n",
            "Train Epoch: 3 [2560/60000 (4%)]\tLoss: 0.006006\n",
            "Train Epoch: 3 [3200/60000 (5%)]\tLoss: 0.014173\n",
            "Train Epoch: 3 [3840/60000 (6%)]\tLoss: 0.015463\n",
            "Train Epoch: 3 [4480/60000 (7%)]\tLoss: 0.014657\n",
            "Train Epoch: 3 [5120/60000 (9%)]\tLoss: 0.011882\n",
            "Train Epoch: 3 [5760/60000 (10%)]\tLoss: 0.013813\n",
            "Train Epoch: 3 [6400/60000 (11%)]\tLoss: 0.011615\n",
            "Train Epoch: 3 [7040/60000 (12%)]\tLoss: 0.013393\n",
            "Train Epoch: 3 [7680/60000 (13%)]\tLoss: 0.010534\n",
            "Train Epoch: 3 [8320/60000 (14%)]\tLoss: 0.012021\n",
            "Train Epoch: 3 [8960/60000 (15%)]\tLoss: 0.008202\n",
            "Train Epoch: 3 [9600/60000 (16%)]\tLoss: 0.014812\n",
            "Train Epoch: 3 [10240/60000 (17%)]\tLoss: 0.006651\n",
            "Train Epoch: 3 [10880/60000 (18%)]\tLoss: 0.009741\n",
            "Train Epoch: 3 [11520/60000 (19%)]\tLoss: 0.013148\n",
            "Train Epoch: 3 [12160/60000 (20%)]\tLoss: 0.020801\n",
            "Train Epoch: 3 [12800/60000 (21%)]\tLoss: 0.010750\n",
            "Train Epoch: 3 [13440/60000 (22%)]\tLoss: 0.017982\n",
            "Train Epoch: 3 [14080/60000 (23%)]\tLoss: 0.011499\n",
            "Train Epoch: 3 [14720/60000 (25%)]\tLoss: 0.011562\n",
            "Train Epoch: 3 [15360/60000 (26%)]\tLoss: 0.008937\n",
            "Train Epoch: 3 [16000/60000 (27%)]\tLoss: 0.011325\n",
            "Train Epoch: 3 [16640/60000 (28%)]\tLoss: 0.018575\n",
            "Train Epoch: 3 [17280/60000 (29%)]\tLoss: 0.007339\n",
            "Train Epoch: 3 [17920/60000 (30%)]\tLoss: 0.025440\n",
            "Train Epoch: 3 [18560/60000 (31%)]\tLoss: 0.009470\n",
            "Train Epoch: 3 [19200/60000 (32%)]\tLoss: 0.016261\n",
            "Train Epoch: 3 [19840/60000 (33%)]\tLoss: 0.007432\n",
            "Train Epoch: 3 [20480/60000 (34%)]\tLoss: 0.008700\n",
            "Train Epoch: 3 [21120/60000 (35%)]\tLoss: 0.016326\n",
            "Train Epoch: 3 [21760/60000 (36%)]\tLoss: 0.015606\n",
            "Train Epoch: 3 [22400/60000 (37%)]\tLoss: 0.010163\n",
            "Train Epoch: 3 [23040/60000 (38%)]\tLoss: 0.011611\n",
            "Train Epoch: 3 [23680/60000 (39%)]\tLoss: 0.017114\n",
            "Train Epoch: 3 [24320/60000 (41%)]\tLoss: 0.007864\n",
            "Train Epoch: 3 [24960/60000 (42%)]\tLoss: 0.013783\n",
            "Train Epoch: 3 [25600/60000 (43%)]\tLoss: 0.017485\n",
            "Train Epoch: 3 [26240/60000 (44%)]\tLoss: 0.011515\n",
            "Train Epoch: 3 [26880/60000 (45%)]\tLoss: 0.017577\n",
            "Train Epoch: 3 [27520/60000 (46%)]\tLoss: 0.006983\n",
            "Train Epoch: 3 [28160/60000 (47%)]\tLoss: 0.009589\n",
            "Train Epoch: 3 [28800/60000 (48%)]\tLoss: 0.012718\n",
            "Train Epoch: 3 [29440/60000 (49%)]\tLoss: 0.016761\n",
            "Train Epoch: 3 [30080/60000 (50%)]\tLoss: 0.011165\n",
            "Train Epoch: 3 [30720/60000 (51%)]\tLoss: 0.008146\n",
            "Train Epoch: 3 [31360/60000 (52%)]\tLoss: 0.010094\n",
            "Train Epoch: 3 [32000/60000 (53%)]\tLoss: 0.012691\n",
            "Train Epoch: 3 [32640/60000 (54%)]\tLoss: 0.006454\n",
            "Train Epoch: 3 [33280/60000 (55%)]\tLoss: 0.006112\n",
            "Train Epoch: 3 [33920/60000 (57%)]\tLoss: 0.013558\n",
            "Train Epoch: 3 [34560/60000 (58%)]\tLoss: 0.008162\n",
            "Train Epoch: 3 [35200/60000 (59%)]\tLoss: 0.008675\n",
            "Train Epoch: 3 [35840/60000 (60%)]\tLoss: 0.013838\n",
            "Train Epoch: 3 [36480/60000 (61%)]\tLoss: 0.010850\n",
            "Train Epoch: 3 [37120/60000 (62%)]\tLoss: 0.008233\n",
            "Train Epoch: 3 [37760/60000 (63%)]\tLoss: 0.010767\n",
            "Train Epoch: 3 [38400/60000 (64%)]\tLoss: 0.010557\n",
            "Train Epoch: 3 [39040/60000 (65%)]\tLoss: 0.009180\n",
            "Train Epoch: 3 [39680/60000 (66%)]\tLoss: 0.010634\n",
            "Train Epoch: 3 [40320/60000 (67%)]\tLoss: 0.012576\n",
            "Train Epoch: 3 [40960/60000 (68%)]\tLoss: 0.014557\n",
            "Train Epoch: 3 [41600/60000 (69%)]\tLoss: 0.007075\n",
            "Train Epoch: 3 [42240/60000 (70%)]\tLoss: 0.011011\n",
            "Train Epoch: 3 [42880/60000 (71%)]\tLoss: 0.009815\n",
            "Train Epoch: 3 [43520/60000 (72%)]\tLoss: 0.008856\n",
            "Train Epoch: 3 [44160/60000 (74%)]\tLoss: 0.014587\n",
            "Train Epoch: 3 [44800/60000 (75%)]\tLoss: 0.010079\n",
            "Train Epoch: 3 [45440/60000 (76%)]\tLoss: 0.013240\n",
            "Train Epoch: 3 [46080/60000 (77%)]\tLoss: 0.009355\n",
            "Train Epoch: 3 [46720/60000 (78%)]\tLoss: 0.007790\n",
            "Train Epoch: 3 [47360/60000 (79%)]\tLoss: 0.010796\n",
            "Train Epoch: 3 [48000/60000 (80%)]\tLoss: 0.015433\n",
            "Train Epoch: 3 [48640/60000 (81%)]\tLoss: 0.016796\n",
            "Train Epoch: 3 [49280/60000 (82%)]\tLoss: 0.007710\n",
            "Train Epoch: 3 [49920/60000 (83%)]\tLoss: 0.013385\n",
            "Train Epoch: 3 [50560/60000 (84%)]\tLoss: 0.012330\n",
            "Train Epoch: 3 [51200/60000 (85%)]\tLoss: 0.010023\n",
            "Train Epoch: 3 [51840/60000 (86%)]\tLoss: 0.011255\n",
            "Train Epoch: 3 [52480/60000 (87%)]\tLoss: 0.007569\n",
            "Train Epoch: 3 [53120/60000 (88%)]\tLoss: 0.011814\n",
            "Train Epoch: 3 [53760/60000 (90%)]\tLoss: 0.010708\n",
            "Train Epoch: 3 [54400/60000 (91%)]\tLoss: 0.016135\n",
            "Train Epoch: 3 [55040/60000 (92%)]\tLoss: 0.014641\n",
            "Train Epoch: 3 [55680/60000 (93%)]\tLoss: 0.006860\n",
            "Train Epoch: 3 [56320/60000 (94%)]\tLoss: 0.011380\n",
            "Train Epoch: 3 [56960/60000 (95%)]\tLoss: 0.017154\n",
            "Train Epoch: 3 [57600/60000 (96%)]\tLoss: 0.004587\n",
            "Train Epoch: 3 [58240/60000 (97%)]\tLoss: 0.015982\n",
            "Train Epoch: 3 [58880/60000 (98%)]\tLoss: 0.008391\n",
            "Train Epoch: 3 [59520/60000 (99%)]\tLoss: 0.012757\n",
            "\n",
            "Test set: Avg. loss: 0.0000, Accuracy: 76/10000 (1%)\n",
            "\n"
          ]
        }
      ]
    },
    {
      "cell_type": "code",
      "source": [
        "fig = plt.figure()\n",
        "plt.plot(train_counter, train_losses, color='blue')\n",
        "plt.scatter(test_counter, test_losses, color='red')\n",
        "plt.legend(['Train Loss', 'Test Loss'], loc='upper right')\n",
        "plt.xlabel('number of training examples seen')\n",
        "plt.ylabel('negative log likelihood loss')\n",
        "fig"
      ],
      "metadata": {
        "id": "aBwFDUXOT9S6",
        "colab": {
          "base_uri": "https://localhost:8080/",
          "height": 228
        },
        "outputId": "909ba082-26fa-40a1-af87-0c7451cf0c07"
      },
      "execution_count": 111,
      "outputs": [
        {
          "output_type": "error",
          "ename": "AttributeError",
          "evalue": "'list' object has no attribute 'device'",
          "traceback": [
            "\u001b[0;31m---------------------------------------------------------------------------\u001b[0m",
            "\u001b[0;31mAttributeError\u001b[0m                            Traceback (most recent call last)",
            "\u001b[0;32m<ipython-input-111-230ca56f19c2>\u001b[0m in \u001b[0;36m<cell line: 2>\u001b[0;34m()\u001b[0m\n\u001b[1;32m      1\u001b[0m \u001b[0mfig\u001b[0m \u001b[0;34m=\u001b[0m \u001b[0mplt\u001b[0m\u001b[0;34m.\u001b[0m\u001b[0mfigure\u001b[0m\u001b[0;34m(\u001b[0m\u001b[0;34m)\u001b[0m\u001b[0;34m\u001b[0m\u001b[0;34m\u001b[0m\u001b[0m\n\u001b[0;32m----> 2\u001b[0;31m \u001b[0mprint\u001b[0m\u001b[0;34m(\u001b[0m\u001b[0mtest_counter\u001b[0m\u001b[0;34m.\u001b[0m\u001b[0mdevice\u001b[0m\u001b[0;34m)\u001b[0m\u001b[0;34m\u001b[0m\u001b[0;34m\u001b[0m\u001b[0m\n\u001b[0m\u001b[1;32m      3\u001b[0m \u001b[0mplt\u001b[0m\u001b[0;34m.\u001b[0m\u001b[0mplot\u001b[0m\u001b[0;34m(\u001b[0m\u001b[0mtrain_counter\u001b[0m\u001b[0;34m,\u001b[0m \u001b[0mtrain_losses\u001b[0m\u001b[0;34m,\u001b[0m \u001b[0mcolor\u001b[0m\u001b[0;34m=\u001b[0m\u001b[0;34m'blue'\u001b[0m\u001b[0;34m)\u001b[0m\u001b[0;34m\u001b[0m\u001b[0;34m\u001b[0m\u001b[0m\n\u001b[1;32m      4\u001b[0m \u001b[0mplt\u001b[0m\u001b[0;34m.\u001b[0m\u001b[0mscatter\u001b[0m\u001b[0;34m(\u001b[0m\u001b[0mtest_counter\u001b[0m\u001b[0;34m,\u001b[0m \u001b[0mtest_losses\u001b[0m\u001b[0;34m,\u001b[0m \u001b[0mcolor\u001b[0m\u001b[0;34m=\u001b[0m\u001b[0;34m'red'\u001b[0m\u001b[0;34m)\u001b[0m\u001b[0;34m\u001b[0m\u001b[0;34m\u001b[0m\u001b[0m\n\u001b[1;32m      5\u001b[0m \u001b[0mplt\u001b[0m\u001b[0;34m.\u001b[0m\u001b[0mlegend\u001b[0m\u001b[0;34m(\u001b[0m\u001b[0;34m[\u001b[0m\u001b[0;34m'Train Loss'\u001b[0m\u001b[0;34m,\u001b[0m \u001b[0;34m'Test Loss'\u001b[0m\u001b[0;34m]\u001b[0m\u001b[0;34m,\u001b[0m \u001b[0mloc\u001b[0m\u001b[0;34m=\u001b[0m\u001b[0;34m'upper right'\u001b[0m\u001b[0;34m)\u001b[0m\u001b[0;34m\u001b[0m\u001b[0;34m\u001b[0m\u001b[0m\n",
            "\u001b[0;31mAttributeError\u001b[0m: 'list' object has no attribute 'device'"
          ]
        },
        {
          "output_type": "display_data",
          "data": {
            "text/plain": [
              "<Figure size 640x480 with 0 Axes>"
            ]
          },
          "metadata": {}
        }
      ]
    },
    {
      "cell_type": "code",
      "source": [
        "# If you have already trained the model previously, continue from here.\n",
        "# Just load the learnt parameters and continue training the model\n",
        "\n",
        "import torch.nn as nn\n",
        "import torch.optim as optim\n",
        "\n",
        "# Create a Sequential model with 2 layers\n",
        "continued_model = nn.Sequential(\n",
        "    nn.Linear(784, 30),\n",
        "    nn.Sigmoid(),\n",
        "    nn.Linear(30, 10),\n",
        "    nn.Sigmoid()\n",
        ")\n",
        "\n",
        "continued_model = nn.DataParallel(model) # Wrap the model with DataParallel\n",
        "continued_model = continued_model.to('cuda') # Move the model to the GPU\n",
        "\n",
        "continued_optimizer = optim.SGD(model.parameters(), lr=3)\n",
        "\n",
        "network_state_dict = torch.load()\n",
        "continued_model.load_state_dict(network_state_dict)\n",
        "\n",
        "optimizer_state_dict = torch.load()\n",
        "continued_optimizer.load_state_dict(optimizer_state_dict)"
      ],
      "metadata": {
        "id": "76ShS7RlURRv"
      },
      "execution_count": null,
      "outputs": []
    },
    {
      "cell_type": "code",
      "source": [
        "for i in range(4,9):\n",
        "  test_counter.append(i*len(train_loader.dataset))\n",
        "  train(i)\n",
        "  test()"
      ],
      "metadata": {
        "id": "auFTK-o5VJ_R"
      },
      "execution_count": null,
      "outputs": []
    },
    {
      "cell_type": "code",
      "source": [
        "fig = plt.figure()\n",
        "plt.plot(train_counter, train_losses, color='blue')\n",
        "plt.scatter(test_counter, test_losses, color='red')\n",
        "plt.legend(['Train Loss', 'Test Loss'], loc='upper right')\n",
        "plt.xlabel('number of training examples seen')\n",
        "plt.ylabel('negative log likelihood loss')\n",
        "fig"
      ],
      "metadata": {
        "id": "iqPiOTaXVMT9"
      },
      "execution_count": null,
      "outputs": []
    }
  ]
}